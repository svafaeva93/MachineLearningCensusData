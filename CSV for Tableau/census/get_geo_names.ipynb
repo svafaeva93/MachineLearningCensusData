{
 "cells": [
  {
   "cell_type": "code",
   "execution_count": 6,
   "metadata": {},
   "outputs": [],
   "source": [
    "import pandas as pd\n",
    "import numpy as np\n",
    "\n",
    "df = pd.read_csv('./filtered_data.csv', sep=',')\n",
    "\n",
    "# Drop missing values before removing duplicates\n",
    "df = df.dropna(subset=['GEO_LEVEL', 'GEO_NAME'])\n",
    "\n",
    "# Get unique combinations of 'GEO_LEVEL' and 'GEO_NAME', and sort\n",
    "unique_geo = df[['GEO_LEVEL', 'GEO_NAME']].drop_duplicates().sort_values(by=['GEO_LEVEL', 'GEO_NAME'])\n",
    "\n",
    "# Define output directory and filename\n",
    "output_path = './output/unique_geo.csv'\n",
    "\n",
    "# Write to CSV\n",
    "unique_geo.to_csv(output_path, index=False, header=True)"
   ]
  }
 ],
 "metadata": {
  "kernelspec": {
   "display_name": "Python 3",
   "language": "python",
   "name": "python3"
  },
  "language_info": {
   "codemirror_mode": {
    "name": "ipython",
    "version": 3
   },
   "file_extension": ".py",
   "mimetype": "text/x-python",
   "name": "python",
   "nbconvert_exporter": "python",
   "pygments_lexer": "ipython3",
   "version": "3.11.3"
  },
  "orig_nbformat": 4
 },
 "nbformat": 4,
 "nbformat_minor": 2
}
